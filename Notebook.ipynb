{
 "cells": [
  {
   "cell_type": "markdown",
   "metadata": {},
   "source": [
    "# Data Loading and Imports"
   ]
  },
  {
   "cell_type": "code",
   "execution_count": 2,
   "metadata": {},
   "outputs": [],
   "source": [
    "from PIL import Image as PilImage\n",
    "import os\n",
    "import numpy as np\n",
    "import pandas as pd\n",
    "from sklearn.metrics import f1_score\n",
    "from IPython.display import Image, display\n",
    "from keras.models import Sequential\n",
    "from keras.layers import Conv2D, MaxPooling2D, Dropout, Flatten, Dense\n",
    "from sklearn.model_selection import train_test_split\n",
    "from tensorflow.keras import metrics\n",
    "from sklearn.metrics import precision_score\n",
    "from keras.preprocessing.image import ImageDataGenerator\n",
    "from keras.callbacks import EarlyStopping\n",
    "from sklearn.utils import class_weight\n",
    "from keras.optimizers import Adam\n",
    "from keras.optimizers import SGD\n",
    "import matplotlib.pyplot as plt\n",
    "from imblearn.under_sampling import RandomUnderSampler"
   ]
  },
  {
   "cell_type": "code",
   "execution_count": 3,
   "metadata": {},
   "outputs": [],
   "source": [
    "image_dir = 'C:\\\\Users\\\\howar\\\\Desktop\\\\Capstone\\\\FloridaSnakePredictor\\\\Snake Photos'"
   ]
  },
  {
   "cell_type": "code",
   "execution_count": 4,
   "metadata": {},
   "outputs": [],
   "source": [
    "all_images = set(f for f in os.listdir(image_dir) if f.endswith('.jpg'))"
   ]
  },
  {
   "cell_type": "code",
   "execution_count": 5,
   "metadata": {},
   "outputs": [],
   "source": [
    "venomous_snakes = [\"Florida Cottonmouth.jpg\", \"Florida Cottonmouth 1.jpg\", \"Dusky Pygmy Rattlesnake.jpg\", \"Dusky Pygmy Rattlesnake 1.jpg\", \"Eastern Diamond-backed Rattlesnake.jpg\", \"Eastern Diamond-backed Rattlesnake 1.jpg\",  \"Harlequin Coralsnake.jpg\", \"Harlequin Coralsnake 1.jpg\", \"Eastern Copperhead.jpg\", \"Eastern Copperhead 1.jpg\", \"Timber Rattlesnake.jpg\", \"Timber Rattlesnake 1.jpg\"]\n",
    "\n",
    "venomous_snakes = set(venomous_snakes)\n",
    "\n",
    "non_venomous_snakes = all_images - venomous_snakes"
   ]
  },
  {
   "cell_type": "code",
   "execution_count": 7,
   "metadata": {},
   "outputs": [
    {
     "data": {
      "text/html": [
       "<div>\n",
       "<style scoped>\n",
       "    .dataframe tbody tr th:only-of-type {\n",
       "        vertical-align: middle;\n",
       "    }\n",
       "\n",
       "    .dataframe tbody tr th {\n",
       "        vertical-align: top;\n",
       "    }\n",
       "\n",
       "    .dataframe thead th {\n",
       "        text-align: right;\n",
       "    }\n",
       "</style>\n",
       "<table border=\"1\" class=\"dataframe\">\n",
       "  <thead>\n",
       "    <tr style=\"text-align: right;\">\n",
       "      <th></th>\n",
       "      <th>Venomous</th>\n",
       "      <th>Non-venomous</th>\n",
       "    </tr>\n",
       "  </thead>\n",
       "  <tbody>\n",
       "    <tr>\n",
       "      <th>0</th>\n",
       "      <td>Dusky Pygmy Rattlesnake 1.jpg</td>\n",
       "      <td>Rough Earthsnake 1.jpg</td>\n",
       "    </tr>\n",
       "    <tr>\n",
       "      <th>1</th>\n",
       "      <td>Harlequin Coralsnake 1.jpg</td>\n",
       "      <td>Scarletsnake 1.jpg</td>\n",
       "    </tr>\n",
       "    <tr>\n",
       "      <th>2</th>\n",
       "      <td>Timber Rattlesnake 1.jpg</td>\n",
       "      <td>Apalachicola Kingsnake.jpg</td>\n",
       "    </tr>\n",
       "    <tr>\n",
       "      <th>3</th>\n",
       "      <td>Dusky Pygmy Rattlesnake.jpg</td>\n",
       "      <td>Scarletsnake.jpg</td>\n",
       "    </tr>\n",
       "    <tr>\n",
       "      <th>4</th>\n",
       "      <td>Florida Cottonmouth 1.jpg</td>\n",
       "      <td>Dekay's Brownsnake.jpg</td>\n",
       "    </tr>\n",
       "    <tr>\n",
       "      <th>...</th>\n",
       "      <td>...</td>\n",
       "      <td>...</td>\n",
       "    </tr>\n",
       "    <tr>\n",
       "      <th>91</th>\n",
       "      <td>NaN</td>\n",
       "      <td>Rim Rock Crowned Snake 1.jpg</td>\n",
       "    </tr>\n",
       "    <tr>\n",
       "      <th>92</th>\n",
       "      <td>NaN</td>\n",
       "      <td>North American Racer 1.jpg</td>\n",
       "    </tr>\n",
       "    <tr>\n",
       "      <th>93</th>\n",
       "      <td>NaN</td>\n",
       "      <td>Southern Watersnake 1.jpg</td>\n",
       "    </tr>\n",
       "    <tr>\n",
       "      <th>94</th>\n",
       "      <td>NaN</td>\n",
       "      <td>Brown Watersnake 1.jpg</td>\n",
       "    </tr>\n",
       "    <tr>\n",
       "      <th>95</th>\n",
       "      <td>NaN</td>\n",
       "      <td>Mississippi Green Watersnake 1.jpg</td>\n",
       "    </tr>\n",
       "  </tbody>\n",
       "</table>\n",
       "<p>96 rows × 2 columns</p>\n",
       "</div>"
      ],
      "text/plain": [
       "                         Venomous                        Non-venomous\n",
       "0   Dusky Pygmy Rattlesnake 1.jpg              Rough Earthsnake 1.jpg\n",
       "1      Harlequin Coralsnake 1.jpg                  Scarletsnake 1.jpg\n",
       "2        Timber Rattlesnake 1.jpg          Apalachicola Kingsnake.jpg\n",
       "3     Dusky Pygmy Rattlesnake.jpg                    Scarletsnake.jpg\n",
       "4       Florida Cottonmouth 1.jpg              Dekay's Brownsnake.jpg\n",
       "..                            ...                                 ...\n",
       "91                            NaN        Rim Rock Crowned Snake 1.jpg\n",
       "92                            NaN          North American Racer 1.jpg\n",
       "93                            NaN           Southern Watersnake 1.jpg\n",
       "94                            NaN              Brown Watersnake 1.jpg\n",
       "95                            NaN  Mississippi Green Watersnake 1.jpg\n",
       "\n",
       "[96 rows x 2 columns]"
      ]
     },
     "execution_count": 7,
     "metadata": {},
     "output_type": "execute_result"
    }
   ],
   "source": [
    "venomous_snakes = list(venomous_snakes)\n",
    "non_venomous_snakes = list(non_venomous_snakes)\n",
    "\n",
    "\n",
    "\n",
    "df = pd.DataFrame({\n",
    "    'Venomous': pd.Series(venomous_snakes),\n",
    "    'Non-venomous': pd.Series(non_venomous_snakes)\n",
    "})\n",
    "\n",
    "df"
   ]
  },
  {
   "cell_type": "code",
   "execution_count": 6,
   "metadata": {},
   "outputs": [
    {
     "data": {
      "text/plain": [
       "['Timber Rattlesnake.jpg',\n",
       " 'Eastern Diamond-backed Rattlesnake 1.jpg',\n",
       " 'Eastern Diamond-backed Rattlesnake.jpg',\n",
       " 'Dusky Pygmy Rattlesnake.jpg',\n",
       " 'Harlequin Coralsnake.jpg',\n",
       " 'Harlequin Coralsnake 1.jpg',\n",
       " 'Eastern Copperhead.jpg',\n",
       " 'Dusky Pygmy Rattlesnake 1.jpg',\n",
       " 'Florida Cottonmouth.jpg',\n",
       " 'Florida Cottonmouth 1.jpg',\n",
       " 'Eastern Copperhead 1.jpg',\n",
       " 'Timber Rattlesnake 1.jpg']"
      ]
     },
     "execution_count": 6,
     "metadata": {},
     "output_type": "execute_result"
    }
   ],
   "source": [
    "venomous_snakes"
   ]
  },
  {
   "cell_type": "markdown",
   "metadata": {},
   "source": [
    "# Data Editing and Prep."
   ]
  },
  {
   "cell_type": "code",
   "execution_count": 8,
   "metadata": {},
   "outputs": [],
   "source": [
    "# Get a list of all files in that directory\n",
    "all_files = os.listdir(image_dir)\n",
    "\n",
    "# Filter the list for files ending in '.jpg'\n",
    "image_paths = [os.path.join(image_dir, file) for file in all_files if file.endswith('.jpg')]"
   ]
  },
  {
   "cell_type": "code",
   "execution_count": 9,
   "metadata": {},
   "outputs": [
    {
     "name": "stdout",
     "output_type": "stream",
     "text": [
      "(108, 600, 900, 3)\n"
     ]
    }
   ],
   "source": [
    "# Initialize an empty list to store the numpy arrays\n",
    "images = []\n",
    "\n",
    "for path in image_paths:\n",
    "    # Open the image file\n",
    "    with PilImage.open(path) as img:\n",
    "        # Convert the image data to a numpy array\n",
    "        img_array = np.array(img)\n",
    "        \n",
    "        # Append the image array to the list\n",
    "        images.append(img_array)\n",
    "\n",
    "# Convert the list of image arrays into a single numpy array\n",
    "images = np.array(images)\n",
    "\n",
    "print(images.shape)\n",
    "# Images, Height, Width, Color Channels"
   ]
  },
  {
   "cell_type": "code",
   "execution_count": 10,
   "metadata": {},
   "outputs": [
    {
     "data": {
      "text/plain": [
       "array([0, 0, 0, 0, 0, 0, 0, 0, 0, 0, 0, 0, 0, 0, 0, 0, 0, 0, 0, 0, 1, 1,\n",
       "       0, 0, 1, 1, 1, 1, 0, 0, 0, 0, 0, 0, 0, 0, 0, 0, 0, 0, 0, 0, 1, 1,\n",
       "       0, 0, 0, 0, 0, 0, 0, 0, 0, 0, 1, 1, 0, 0, 0, 0, 0, 0, 0, 0, 0, 0,\n",
       "       0, 0, 0, 0, 0, 0, 0, 0, 0, 0, 0, 0, 0, 0, 0, 0, 0, 0, 0, 0, 0, 0,\n",
       "       0, 0, 0, 0, 0, 0, 0, 0, 0, 0, 0, 0, 0, 0, 0, 0, 0, 0, 1, 1])"
      ]
     },
     "execution_count": 10,
     "metadata": {},
     "output_type": "execute_result"
    }
   ],
   "source": [
    "labels = []\n",
    "\n",
    "for path in image_paths:\n",
    "    # Get the name of the snake from the path\n",
    "    snake_name = os.path.basename(path)  # this gets the filename with the extension\n",
    "    \n",
    "    # Check if the snake is venomous\n",
    "    if snake_name in venomous_snakes:\n",
    "        # If it is, append 1 to the labels list\n",
    "        labels.append(1)\n",
    "    else:\n",
    "        # If it's not, append 0 to the labels list\n",
    "        labels.append(0)\n",
    "\n",
    "# Convert the list of labels into a numpy array\n",
    "labels = np.array(labels)\n",
    "labels"
   ]
  },
  {
   "cell_type": "markdown",
   "metadata": {},
   "source": [
    "# Models"
   ]
  },
  {
   "cell_type": "markdown",
   "metadata": {},
   "source": [
    "#### Train Test Split"
   ]
  },
  {
   "cell_type": "code",
   "execution_count": 11,
   "metadata": {},
   "outputs": [],
   "source": [
    "X_train, X_test, y_train, y_test = train_test_split(images, labels, test_size=0.4, random_state=42)\n",
    "\n",
    "X_train = X_train / 255.0\n",
    "X_test = X_test / 255.0"
   ]
  },
  {
   "cell_type": "markdown",
   "metadata": {},
   "source": [
    "### Model 1 (SGD)"
   ]
  },
  {
   "cell_type": "code",
   "execution_count": 12,
   "metadata": {
    "scrolled": false
   },
   "outputs": [
    {
     "name": "stderr",
     "output_type": "stream",
     "text": [
      "C:\\Users\\howar\\anaconda3\\envs\\learn-env\\lib\\site-packages\\sklearn\\utils\\validation.py:67: FutureWarning: Pass classes=[0 1], y=[0 0 0 0 1 0 0 1 0 0 0 1 0 0 0 1 0 0 0 0 0 0 0 0 0 1 0 0 0 0 0 0 0 0 0 0 0\n",
      " 0 0 0 0 0 0 0 0 0 0 0 0 1 0 0 0 0 0 0 0 1 0 0 0 0 0 0] as keyword args. From version 0.25 passing these as positional arguments will result in an error\n",
      "  warnings.warn(\"Pass {} as keyword args. From version 0.25 \"\n"
     ]
    },
    {
     "name": "stdout",
     "output_type": "stream",
     "text": [
      "Epoch 1/20\n",
      "2/2 [==============================] - 4s 2s/step - loss: 1.8593 - val_loss: 0.4705\n",
      "Epoch 2/20\n",
      "2/2 [==============================] - 4s 2s/step - loss: 0.6123 - val_loss: 0.5284\n",
      "Epoch 3/20\n",
      "2/2 [==============================] - 4s 2s/step - loss: 0.3935 - val_loss: 0.4795\n",
      "Epoch 4/20\n",
      "2/2 [==============================] - 4s 2s/step - loss: 0.4189 - val_loss: 0.4586\n",
      "Epoch 5/20\n",
      "2/2 [==============================] - 4s 2s/step - loss: 0.3547 - val_loss: 0.5145\n",
      "Epoch 6/20\n",
      "2/2 [==============================] - 4s 2s/step - loss: 0.3291 - val_loss: 0.4635\n",
      "Epoch 7/20\n",
      "2/2 [==============================] - 4s 2s/step - loss: 0.2968 - val_loss: 0.4356\n",
      "Epoch 8/20\n",
      "2/2 [==============================] - 4s 2s/step - loss: 0.3698 - val_loss: 0.4626\n",
      "Epoch 9/20\n",
      "2/2 [==============================] - 4s 2s/step - loss: 0.3195 - val_loss: 0.5604\n",
      "Epoch 10/20\n",
      "2/2 [==============================] - 4s 2s/step - loss: 0.3374 - val_loss: 0.4770\n"
     ]
    },
    {
     "data": {
      "text/plain": [
       "<tensorflow.python.keras.callbacks.History at 0x22001f3b6a0>"
      ]
     },
     "execution_count": 12,
     "metadata": {},
     "output_type": "execute_result"
    }
   ],
   "source": [
    "weights = class_weight.compute_class_weight('balanced', np.unique(y_train), y_train)\n",
    "class_weights = dict(enumerate(weights))\n",
    "\n",
    "model = Sequential()\n",
    "model.add(Conv2D(32, (3, 3), activation='relu', input_shape=(600, 900, 3)))  # change input shape to match your images\n",
    "model.add(MaxPooling2D((2, 2)))\n",
    "model.add(Dropout(0.25))\n",
    "\n",
    "model.add(Conv2D(64, (3, 3), activation='relu'))\n",
    "model.add(MaxPooling2D((2, 2)))\n",
    "model.add(Dropout(0.25))\n",
    "\n",
    "model.add(Flatten())\n",
    "model.add(Dense(128, activation='relu'))\n",
    "model.add(Dropout(0.5))\n",
    "model.add(Dense(1, activation='sigmoid')) \n",
    "\n",
    "# Set the learning rate\n",
    "learning_rate = 0.01\n",
    "\n",
    "# Create an SGD optimizer with the specified learning rate\n",
    "sgd = SGD(lr=learning_rate)\n",
    "\n",
    "# Compile the model with the SGD optimizer\n",
    "model.compile(optimizer=sgd, loss='binary_crossentropy')\n",
    "\n",
    "early_stopping = EarlyStopping(monitor='val_loss', patience=3)\n",
    "\n",
    "model.fit(X_train, y_train, epochs=20, validation_data=(X_test, y_test), batch_size=32, callbacks=early_stopping)\n"
   ]
  },
  {
   "cell_type": "code",
   "execution_count": 13,
   "metadata": {},
   "outputs": [
    {
     "name": "stdout",
     "output_type": "stream",
     "text": [
      "Test loss: 0.4770, Test F1 score: 83.30%\n"
     ]
    }
   ],
   "source": [
    "loss = model.evaluate(X_test, y_test, verbose=0)\n",
    "\n",
    "y_pred = model.predict(X_test)\n",
    "y_pred = np.round(y_pred)  \n",
    "\n",
    "f1 = f1_score(y_test, y_pred, average='weighted')\n",
    "print(f'Test loss: {loss:.4f}, Test F1 score: {f1*100:.2f}%')"
   ]
  },
  {
   "cell_type": "markdown",
   "metadata": {},
   "source": [
    "### Model 2 (adam)"
   ]
  },
  {
   "cell_type": "code",
   "execution_count": 14,
   "metadata": {},
   "outputs": [
    {
     "name": "stdout",
     "output_type": "stream",
     "text": [
      "Epoch 1/20\n",
      "2/2 [==============================] - 4s 2s/step - loss: 22.4381 - val_loss: 43.6959\n",
      "Epoch 2/20\n",
      "2/2 [==============================] - 4s 2s/step - loss: 66.9785 - val_loss: 14.9943\n",
      "Epoch 3/20\n",
      "2/2 [==============================] - 4s 2s/step - loss: 25.5506 - val_loss: 2.2415\n",
      "Epoch 4/20\n",
      "2/2 [==============================] - 4s 2s/step - loss: 3.9572 - val_loss: 0.8867\n",
      "Epoch 5/20\n",
      "2/2 [==============================] - 4s 2s/step - loss: 3.4412 - val_loss: 0.6448\n",
      "Epoch 6/20\n",
      "2/2 [==============================] - 4s 2s/step - loss: 1.9487 - val_loss: 0.5541\n",
      "Epoch 7/20\n",
      "2/2 [==============================] - 4s 2s/step - loss: 0.6094 - val_loss: 0.5559\n",
      "Epoch 8/20\n",
      "2/2 [==============================] - 4s 2s/step - loss: 0.4232 - val_loss: 0.5589\n",
      "Epoch 9/20\n",
      "2/2 [==============================] - 4s 2s/step - loss: 0.4529 - val_loss: 0.5798\n"
     ]
    },
    {
     "data": {
      "text/plain": [
       "<tensorflow.python.keras.callbacks.History at 0x2200350d850>"
      ]
     },
     "execution_count": 14,
     "metadata": {},
     "output_type": "execute_result"
    }
   ],
   "source": [
    "weights = class_weight.compute_class_weight('balanced', np.unique(y_train), y_train)\n",
    "class_weights = dict(enumerate(weights))\n",
    "\n",
    "model = Sequential()\n",
    "model.add(Conv2D(32, (3, 3), activation='relu', input_shape=(600, 900, 3)))  # change input shape to match your images\n",
    "model.add(MaxPooling2D((2, 2)))\n",
    "model.add(Dropout(0.25))\n",
    "\n",
    "model.add(Conv2D(64, (3, 3), activation='relu'))\n",
    "model.add(MaxPooling2D((2, 2)))\n",
    "model.add(Dropout(0.25))\n",
    "\n",
    "model.add(Flatten())\n",
    "model.add(Dense(128, activation='relu'))\n",
    "model.add(Dropout(0.5))\n",
    "model.add(Dense(1, activation='sigmoid'))\n",
    "\n",
    "adam = Adam(lr=0.01)\n",
    "\n",
    "model.compile(optimizer='adam', loss='binary_crossentropy')\n",
    "\n",
    "early_stopping = EarlyStopping(monitor='val_loss', patience=3)\n",
    "\n",
    "model.fit(X_train, y_train, epochs=20, validation_data=(X_test, y_test), batch_size=32, callbacks=[early_stopping])"
   ]
  },
  {
   "cell_type": "code",
   "execution_count": 15,
   "metadata": {},
   "outputs": [
    {
     "name": "stdout",
     "output_type": "stream",
     "text": [
      "Test loss: 0.5798, Test F1 score: 83.30%\n"
     ]
    }
   ],
   "source": [
    "loss = model.evaluate(X_test, y_test, verbose=0)\n",
    "\n",
    "y_pred = model.predict(X_test)\n",
    "y_pred = np.round(y_pred)  \n",
    "\n",
    "f1 = f1_score(y_test, y_pred, average='weighted')\n",
    "print(f'Test loss: {loss:.4f}, Test F1 score: {f1*100:.2f}%')"
   ]
  },
  {
   "cell_type": "markdown",
   "metadata": {},
   "source": [
    "# Visualizations "
   ]
  },
  {
   "cell_type": "code",
   "execution_count": 16,
   "metadata": {},
   "outputs": [
    {
     "data": {
      "image/png": "[encoded data removed]",
      "text/plain": [
       "<Figure size 432x288 with 1 Axes>"
      ]
     },
     "metadata": {},
     "output_type": "display_data"
    }
   ],
   "source": [
    "labels = 'Venomous snakes', 'Non-venomous snakes'\n",
    "sizes = [6, 47]  \n",
    "colors = ['red', 'skyblue']  \n",
    "explode = (0.2, 0)  \n",
    "\n",
    "\n",
    "plt.pie(sizes, explode=explode, labels=labels, colors=colors, autopct='%1.1f%%', shadow=True, startangle=140)\n",
    "plt.axis('equal')\n",
    "plt.rcParams['font.size'] = 14\n",
    "plt.rcParams['font.weight'] = 'bold'\n",
    "plt.title('Venomous vs Non-Venomous')\n",
    "plt.show()"
   ]
  },
  {
   "cell_type": "code",
   "execution_count": 17,
   "metadata": {},
   "outputs": [
    {
     "name": "stdout",
     "output_type": "stream",
     "text": [
      "['Harlequin Coralsnake', 'Dusky Pygmy Rattlesnake', 'Eastern Diamond-backed Rattlesnake', 'Eastern Copperhead', 'Florida Cottonmouth', 'Timber Rattlesnake']\n"
     ]
    }
   ],
   "source": [
    "venomous_snake_names = [\"Harlequin Coralsnake\", \"Dusky Pygmy Rattlesnake\", \"Eastern Diamond-backed Rattlesnake\", \"Eastern Copperhead\", \"Florida Cottonmouth\", \"Timber Rattlesnake\"]\n",
    "print(venomous_snake_names)"
   ]
  },
  {
   "cell_type": "code",
   "execution_count": 18,
   "metadata": {
    "scrolled": true
   },
   "outputs": [
    {
     "data": {
      "image/png": "[encoded data removed]",
      "text/plain": [
       "<Figure size 432x288 with 1 Axes>"
      ]
     },
     "metadata": {},
     "output_type": "display_data"
    }
   ],
   "source": [
    "labels = ['Common', 'Uncommon']\n",
    "counts = [5, 1]  \n",
    "explode = (0.2, 0)\n",
    "\n",
    "plt.pie(counts, explode=explode, labels=labels, autopct='%1.1f%%', shadow=True, startangle=140)\n",
    "plt.axis('equal') \n",
    "plt.rcParams['font.size'] = 14\n",
    "plt.rcParams['font.weight'] = 'bold'\n",
    "plt.title('Venomous Snakes')\n",
    "plt.show()"
   ]
  },
  {
   "cell_type": "code",
   "execution_count": 19,
   "metadata": {},
   "outputs": [
    {
     "data": {
      "image/png": "[encoded data removed]",
      "text/plain": [
       "<Figure size 432x288 with 1 Axes>"
      ]
     },
     "metadata": {},
     "output_type": "display_data"
    }
   ],
   "source": [
    "labels = ['Rattle', 'Colors']\n",
    "counts = [3, 2] \n",
    "colors = ['green', 'yellow']\n",
    "explode = (0.2, 0)\n",
    "\n",
    "\n",
    "plt.pie(counts, labels=labels, autopct='%1.1f%%', colors=colors, shadow=True, startangle=140)\n",
    "plt.axis('equal') \n",
    "plt.rcParams['font.size'] = 14\n",
    "plt.rcParams['font.weight'] = 'bold'\n",
    "plt.title('Threat Displays')\n",
    "plt.show()"
   ]
  },
  {
   "cell_type": "code",
   "execution_count": null,
   "metadata": {},
   "outputs": [],
   "source": []
  }
 ],
 "metadata": {
  "kernelspec": {
   "display_name": "Python (learn-env)",
   "language": "python",
   "name": "learn-env"
  },
  "language_info": {
   "codemirror_mode": {
    "name": "ipython",
    "version": 3
   },
   "file_extension": ".py",
   "mimetype": "text/x-python",
   "name": "python",
   "nbconvert_exporter": "python",
   "pygments_lexer": "ipython3",
   "version": "3.8.5"
  }
 },
 "nbformat": 4,
 "nbformat_minor": 4
}
