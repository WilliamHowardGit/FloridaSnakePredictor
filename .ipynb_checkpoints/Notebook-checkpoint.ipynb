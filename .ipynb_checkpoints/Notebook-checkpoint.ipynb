{
 "cells": [
  {
   "cell_type": "markdown",
   "metadata": {},
   "source": [
    "# Data Loading and Imports"
   ]
  },
  {
   "cell_type": "code",
   "execution_count": 13,
   "metadata": {},
   "outputs": [],
   "source": [
    "from PIL import Image as PilImage\n",
    "import os\n",
    "import numpy as np\n",
    "import pandas as pd\n",
    "from sklearn.metrics import f1_score\n",
    "from IPython.display import Image, display\n",
    "from keras.models import Sequential\n",
    "from keras.layers import Conv2D, MaxPooling2D, Dropout, Flatten, Dense\n",
    "from sklearn.model_selection import train_test_split\n",
    "from tensorflow.keras import metrics\n",
    "from sklearn.metrics import precision_score\n",
    "from sklearn.metrics import accuracy_score\n",
    "from keras.preprocessing.image import ImageDataGenerator\n",
    "from keras.callbacks import EarlyStopping\n",
    "from sklearn.utils import class_weight\n",
    "from keras.optimizers import Adam\n",
    "from keras.optimizers import SGD\n",
    "import matplotlib.pyplot as plt\n",
    "from imblearn.under_sampling import RandomUnderSampler"
   ]
  },
  {
   "cell_type": "code",
   "execution_count": 2,
   "metadata": {},
   "outputs": [],
   "source": [
    "image_dir = 'C:\\\\Users\\\\howar\\\\Desktop\\\\Capstone\\\\FloridaSnakePredictor\\\\Snake Photos'"
   ]
  },
  {
   "cell_type": "code",
   "execution_count": 3,
   "metadata": {},
   "outputs": [],
   "source": [
    "all_images = set(f for f in os.listdir(image_dir) if f.endswith('.jpg'))"
   ]
  },
  {
   "cell_type": "code",
   "execution_count": 4,
   "metadata": {},
   "outputs": [],
   "source": [
    "venomous_snakes = [\"Florida Cottonmouth.jpg\", \"Florida Cottonmouth 1.jpg\", \"Dusky Pygmy Rattlesnake.jpg\", \"Dusky Pygmy Rattlesnake 1.jpg\", \"Eastern Diamond-backed Rattlesnake.jpg\", \"Eastern Diamond-backed Rattlesnake 1.jpg\",  \"Harlequin Coralsnake.jpg\", \"Harlequin Coralsnake 1.jpg\", \"Eastern Copperhead.jpg\", \"Eastern Copperhead 1.jpg\", \"Timber Rattlesnake.jpg\", \"Timber Rattlesnake 1.jpg\"]\n",
    "\n",
    "venomous_snakes = set(venomous_snakes)\n",
    "\n",
    "non_venomous_snakes = all_images - venomous_snakes"
   ]
  },
  {
   "cell_type": "code",
   "execution_count": 5,
   "metadata": {},
   "outputs": [
    {
     "data": {
      "text/html": [
       "<div>\n",
       "<style scoped>\n",
       "    .dataframe tbody tr th:only-of-type {\n",
       "        vertical-align: middle;\n",
       "    }\n",
       "\n",
       "    .dataframe tbody tr th {\n",
       "        vertical-align: top;\n",
       "    }\n",
       "\n",
       "    .dataframe thead th {\n",
       "        text-align: right;\n",
       "    }\n",
       "</style>\n",
       "<table border=\"1\" class=\"dataframe\">\n",
       "  <thead>\n",
       "    <tr style=\"text-align: right;\">\n",
       "      <th></th>\n",
       "      <th>Venomous</th>\n",
       "      <th>Non-venomous</th>\n",
       "    </tr>\n",
       "  </thead>\n",
       "  <tbody>\n",
       "    <tr>\n",
       "      <th>0</th>\n",
       "      <td>Timber Rattlesnake.jpg</td>\n",
       "      <td>Red Cornsnake 1.jpg</td>\n",
       "    </tr>\n",
       "    <tr>\n",
       "      <th>1</th>\n",
       "      <td>Florida Cottonmouth 1.jpg</td>\n",
       "      <td>Gray Ratsnake 1.jpg</td>\n",
       "    </tr>\n",
       "    <tr>\n",
       "      <th>2</th>\n",
       "      <td>Eastern Copperhead 1.jpg</td>\n",
       "      <td>Florida Brownsnake 1.jpg</td>\n",
       "    </tr>\n",
       "    <tr>\n",
       "      <th>3</th>\n",
       "      <td>Eastern Diamond-backed Rattlesnake.jpg</td>\n",
       "      <td>Eastern Indigo Snake.jpg</td>\n",
       "    </tr>\n",
       "    <tr>\n",
       "      <th>4</th>\n",
       "      <td>Florida Cottonmouth.jpg</td>\n",
       "      <td>Diamond-backed Watersnake.jpg</td>\n",
       "    </tr>\n",
       "    <tr>\n",
       "      <th>...</th>\n",
       "      <td>...</td>\n",
       "      <td>...</td>\n",
       "    </tr>\n",
       "    <tr>\n",
       "      <th>91</th>\n",
       "      <td>NaN</td>\n",
       "      <td>North American Racer 1.jpg</td>\n",
       "    </tr>\n",
       "    <tr>\n",
       "      <th>92</th>\n",
       "      <td>NaN</td>\n",
       "      <td>Red Cornsnake.jpg</td>\n",
       "    </tr>\n",
       "    <tr>\n",
       "      <th>93</th>\n",
       "      <td>NaN</td>\n",
       "      <td>Rough Greensnake 1.jpg</td>\n",
       "    </tr>\n",
       "    <tr>\n",
       "      <th>94</th>\n",
       "      <td>NaN</td>\n",
       "      <td>Rim Rock Crowned Snake.jpg</td>\n",
       "    </tr>\n",
       "    <tr>\n",
       "      <th>95</th>\n",
       "      <td>NaN</td>\n",
       "      <td>Eastern Ratsnake.jpg</td>\n",
       "    </tr>\n",
       "  </tbody>\n",
       "</table>\n",
       "<p>96 rows × 2 columns</p>\n",
       "</div>"
      ],
      "text/plain": [
       "                                  Venomous                   Non-venomous\n",
       "0                   Timber Rattlesnake.jpg            Red Cornsnake 1.jpg\n",
       "1                Florida Cottonmouth 1.jpg            Gray Ratsnake 1.jpg\n",
       "2                 Eastern Copperhead 1.jpg       Florida Brownsnake 1.jpg\n",
       "3   Eastern Diamond-backed Rattlesnake.jpg       Eastern Indigo Snake.jpg\n",
       "4                  Florida Cottonmouth.jpg  Diamond-backed Watersnake.jpg\n",
       "..                                     ...                            ...\n",
       "91                                     NaN     North American Racer 1.jpg\n",
       "92                                     NaN              Red Cornsnake.jpg\n",
       "93                                     NaN         Rough Greensnake 1.jpg\n",
       "94                                     NaN     Rim Rock Crowned Snake.jpg\n",
       "95                                     NaN           Eastern Ratsnake.jpg\n",
       "\n",
       "[96 rows x 2 columns]"
      ]
     },
     "execution_count": 5,
     "metadata": {},
     "output_type": "execute_result"
    }
   ],
   "source": [
    "venomous_snakes = list(venomous_snakes)\n",
    "non_venomous_snakes = list(non_venomous_snakes)\n",
    "\n",
    "\n",
    "\n",
    "df = pd.DataFrame({\n",
    "    'Venomous': pd.Series(venomous_snakes),\n",
    "    'Non-venomous': pd.Series(non_venomous_snakes)\n",
    "})\n",
    "\n",
    "df"
   ]
  },
  {
   "cell_type": "code",
   "execution_count": 6,
   "metadata": {},
   "outputs": [
    {
     "data": {
      "text/plain": [
       "['Timber Rattlesnake.jpg',\n",
       " 'Florida Cottonmouth 1.jpg',\n",
       " 'Eastern Copperhead 1.jpg',\n",
       " 'Eastern Diamond-backed Rattlesnake.jpg',\n",
       " 'Florida Cottonmouth.jpg',\n",
       " 'Eastern Copperhead.jpg',\n",
       " 'Harlequin Coralsnake.jpg',\n",
       " 'Dusky Pygmy Rattlesnake.jpg',\n",
       " 'Eastern Diamond-backed Rattlesnake 1.jpg',\n",
       " 'Timber Rattlesnake 1.jpg',\n",
       " 'Dusky Pygmy Rattlesnake 1.jpg',\n",
       " 'Harlequin Coralsnake 1.jpg']"
      ]
     },
     "execution_count": 6,
     "metadata": {},
     "output_type": "execute_result"
    }
   ],
   "source": [
    "venomous_snakes"
   ]
  },
  {
   "cell_type": "markdown",
   "metadata": {},
   "source": [
    "# Data Editing and Prep."
   ]
  },
  {
   "cell_type": "code",
   "execution_count": 7,
   "metadata": {},
   "outputs": [],
   "source": [
    "# Get a list of all files in that directory\n",
    "all_files = os.listdir(image_dir)\n",
    "\n",
    "# Filter the list for files ending in '.jpg'\n",
    "image_paths = [os.path.join(image_dir, file) for file in all_files if file.endswith('.jpg')]"
   ]
  },
  {
   "cell_type": "code",
   "execution_count": 8,
   "metadata": {},
   "outputs": [
    {
     "name": "stdout",
     "output_type": "stream",
     "text": [
      "(108, 600, 900, 3)\n"
     ]
    }
   ],
   "source": [
    "# Initialize an empty list to store the numpy arrays\n",
    "images = []\n",
    "\n",
    "for path in image_paths:\n",
    "    # Open the image file\n",
    "    with PilImage.open(path) as img:\n",
    "        # Convert the image data to a numpy array\n",
    "        img_array = np.array(img)\n",
    "        \n",
    "        # Append the image array to the list\n",
    "        images.append(img_array)\n",
    "\n",
    "# Convert the list of image arrays into a single numpy array\n",
    "images = np.array(images)\n",
    "\n",
    "print(images.shape)\n",
    "# Images, Height, Width, Color Channels"
   ]
  },
  {
   "cell_type": "code",
   "execution_count": 9,
   "metadata": {},
   "outputs": [
    {
     "data": {
      "text/plain": [
       "array([0, 0, 0, 0, 0, 0, 0, 0, 0, 0, 0, 0, 0, 0, 0, 0, 0, 0, 0, 0, 1, 1,\n",
       "       0, 0, 1, 1, 1, 1, 0, 0, 0, 0, 0, 0, 0, 0, 0, 0, 0, 0, 0, 0, 1, 1,\n",
       "       0, 0, 0, 0, 0, 0, 0, 0, 0, 0, 1, 1, 0, 0, 0, 0, 0, 0, 0, 0, 0, 0,\n",
       "       0, 0, 0, 0, 0, 0, 0, 0, 0, 0, 0, 0, 0, 0, 0, 0, 0, 0, 0, 0, 0, 0,\n",
       "       0, 0, 0, 0, 0, 0, 0, 0, 0, 0, 0, 0, 0, 0, 0, 0, 0, 0, 1, 1])"
      ]
     },
     "execution_count": 9,
     "metadata": {},
     "output_type": "execute_result"
    }
   ],
   "source": [
    "labels = []\n",
    "\n",
    "for path in image_paths:\n",
    "    # Get the name of the snake from the path\n",
    "    snake_name = os.path.basename(path)  # this gets the filename with the extension\n",
    "    \n",
    "    # Check if the snake is venomous\n",
    "    if snake_name in venomous_snakes:\n",
    "        # If it is, append 1 to the labels list\n",
    "        labels.append(1)\n",
    "    else:\n",
    "        # If it's not, append 0 to the labels list\n",
    "        labels.append(0)\n",
    "\n",
    "# Convert the list of labels into a numpy array\n",
    "labels = np.array(labels)\n",
    "labels"
   ]
  },
  {
   "cell_type": "markdown",
   "metadata": {},
   "source": [
    "# Models"
   ]
  },
  {
   "cell_type": "markdown",
   "metadata": {},
   "source": [
    "#### Train Test Split"
   ]
  },
  {
   "cell_type": "code",
   "execution_count": 10,
   "metadata": {},
   "outputs": [],
   "source": [
    "X_train, X_test, y_train, y_test = train_test_split(images, labels, test_size=0.4, random_state=42)\n",
    "\n",
    "X_train = X_train / 255.0\n",
    "X_test = X_test / 255.0"
   ]
  },
  {
   "cell_type": "markdown",
   "metadata": {},
   "source": [
    "### Model 1 (SGD)"
   ]
  },
  {
   "cell_type": "code",
   "execution_count": 11,
   "metadata": {
    "scrolled": false
   },
   "outputs": [
    {
     "name": "stderr",
     "output_type": "stream",
     "text": [
      "C:\\Users\\howar\\anaconda3\\envs\\learn-env\\lib\\site-packages\\sklearn\\utils\\validation.py:67: FutureWarning: Pass classes=[0 1], y=[0 0 0 0 1 0 0 1 0 0 0 1 0 0 0 1 0 0 0 0 0 0 0 0 0 1 0 0 0 0 0 0 0 0 0 0 0\n",
      " 0 0 0 0 0 0 0 0 0 0 0 0 1 0 0 0 0 0 0 0 1 0 0 0 0 0 0] as keyword args. From version 0.25 passing these as positional arguments will result in an error\n",
      "  warnings.warn(\"Pass {} as keyword args. From version 0.25 \"\n"
     ]
    },
    {
     "name": "stdout",
     "output_type": "stream",
     "text": [
      "Epoch 1/20\n",
      "2/2 [==============================] - 6s 3s/step - loss: 5.7046 - val_loss: 0.4860\n",
      "Epoch 2/20\n",
      "2/2 [==============================] - 6s 3s/step - loss: 0.3824 - val_loss: 0.4212\n",
      "Epoch 3/20\n",
      "2/2 [==============================] - 6s 3s/step - loss: 0.4139 - val_loss: 0.5777\n",
      "Epoch 4/20\n",
      "2/2 [==============================] - 6s 3s/step - loss: 0.4411 - val_loss: 0.5530\n",
      "Epoch 5/20\n",
      "2/2 [==============================] - 5s 3s/step - loss: 0.3796 - val_loss: 0.5079\n"
     ]
    },
    {
     "data": {
      "text/plain": [
       "<tensorflow.python.keras.callbacks.History at 0x25307f0f3d0>"
      ]
     },
     "execution_count": 11,
     "metadata": {},
     "output_type": "execute_result"
    }
   ],
   "source": [
    "weights = class_weight.compute_class_weight('balanced', np.unique(y_train), y_train)\n",
    "class_weights = dict(enumerate(weights))\n",
    "\n",
    "model = Sequential()\n",
    "model.add(Conv2D(32, (3, 3), activation='relu', input_shape=(600, 900, 3)))  # change input shape to match your images\n",
    "model.add(MaxPooling2D((2, 2)))\n",
    "model.add(Dropout(0.25))\n",
    "\n",
    "model.add(Conv2D(64, (3, 3), activation='relu'))\n",
    "model.add(MaxPooling2D((2, 2)))\n",
    "model.add(Dropout(0.25))\n",
    "\n",
    "model.add(Flatten())\n",
    "model.add(Dense(128, activation='relu'))\n",
    "model.add(Dropout(0.5))\n",
    "model.add(Dense(1, activation='sigmoid')) \n",
    "\n",
    "# Set the learning rate\n",
    "learning_rate = 0.01\n",
    "\n",
    "# Create an SGD optimizer with the specified learning rate\n",
    "sgd = SGD(lr=learning_rate)\n",
    "\n",
    "# Compile the model with the SGD optimizer\n",
    "model.compile(optimizer=sgd, loss='binary_crossentropy')\n",
    "\n",
    "early_stopping = EarlyStopping(monitor='val_loss', patience=3)\n",
    "\n",
    "model.fit(X_train, y_train, epochs=20, validation_data=(X_test, y_test), batch_size=32, callbacks=early_stopping)\n"
   ]
  },
  {
   "cell_type": "code",
   "execution_count": 16,
   "metadata": {},
   "outputs": [
    {
     "name": "stdout",
     "output_type": "stream",
     "text": [
      "Test loss: 0.5079, Test F1 score: 83.30%\n"
     ]
    }
   ],
   "source": [
    "loss = model.evaluate(X_test, y_test, verbose=0)\n",
    "\n",
    "y_pred = model.predict(X_test)\n",
    "y_pred = np.round(y_pred)  \n",
    "\n",
    "f1 = f1_score(y_test, y_pred, average='weighted')\n",
    "print(f'Test loss: {loss:.4f}, Test F1 score: {f1*100:.2f}%')"
   ]
  },
  {
   "cell_type": "code",
   "execution_count": 17,
   "metadata": {},
   "outputs": [
    {
     "name": "stdout",
     "output_type": "stream",
     "text": [
      "Accuracy: 0.89\n"
     ]
    }
   ],
   "source": [
    "accuracy = accuracy_score(y_test, y_pred)\n",
    "\n",
    "print(f\"Accuracy: {accuracy:.2f}\")"
   ]
  },
  {
   "cell_type": "markdown",
   "metadata": {},
   "source": [
    "### Model 2 (adam)"
   ]
  },
  {
   "cell_type": "code",
   "execution_count": 18,
   "metadata": {},
   "outputs": [
    {
     "name": "stdout",
     "output_type": "stream",
     "text": [
      "Epoch 1/20\n",
      "2/2 [==============================] - 6s 3s/step - loss: 115.2893 - val_loss: 74.9394\n",
      "Epoch 2/20\n",
      "2/2 [==============================] - 6s 3s/step - loss: 121.3039 - val_loss: 19.0860\n",
      "Epoch 3/20\n",
      "2/2 [==============================] - 6s 3s/step - loss: 25.4102 - val_loss: 2.2814\n",
      "Epoch 4/20\n",
      "2/2 [==============================] - 6s 3s/step - loss: 13.5676 - val_loss: 0.5779\n",
      "Epoch 5/20\n",
      "2/2 [==============================] - 6s 3s/step - loss: 7.1046 - val_loss: 0.4007\n",
      "Epoch 6/20\n",
      "2/2 [==============================] - 6s 3s/step - loss: 1.5528 - val_loss: 0.5290\n",
      "Epoch 7/20\n",
      "2/2 [==============================] - 6s 3s/step - loss: 0.6498 - val_loss: 0.6286\n",
      "Epoch 8/20\n",
      "2/2 [==============================] - 6s 3s/step - loss: 0.3076 - val_loss: 0.6222\n"
     ]
    },
    {
     "data": {
      "text/plain": [
       "<tensorflow.python.keras.callbacks.History at 0x25308745460>"
      ]
     },
     "execution_count": 18,
     "metadata": {},
     "output_type": "execute_result"
    }
   ],
   "source": [
    "weights = class_weight.compute_class_weight('balanced', np.unique(y_train), y_train)\n",
    "class_weights = dict(enumerate(weights))\n",
    "\n",
    "model = Sequential()\n",
    "model.add(Conv2D(32, (3, 3), activation='relu', input_shape=(600, 900, 3)))  # change input shape to match your images\n",
    "model.add(MaxPooling2D((2, 2)))\n",
    "model.add(Dropout(0.25))\n",
    "\n",
    "model.add(Conv2D(64, (3, 3), activation='relu'))\n",
    "model.add(MaxPooling2D((2, 2)))\n",
    "model.add(Dropout(0.25))\n",
    "\n",
    "model.add(Flatten())\n",
    "model.add(Dense(128, activation='relu'))\n",
    "model.add(Dropout(0.5))\n",
    "model.add(Dense(1, activation='sigmoid'))\n",
    "\n",
    "adam = Adam(lr=0.01)\n",
    "\n",
    "model.compile(optimizer='adam', loss='binary_crossentropy')\n",
    "\n",
    "early_stopping = EarlyStopping(monitor='val_loss', patience=3)\n",
    "\n",
    "model.fit(X_train, y_train, epochs=20, validation_data=(X_test, y_test), batch_size=32, callbacks=[early_stopping])"
   ]
  },
  {
   "cell_type": "code",
   "execution_count": 19,
   "metadata": {},
   "outputs": [
    {
     "name": "stdout",
     "output_type": "stream",
     "text": [
      "Test loss: 0.6222, Test F1 score: 83.30%\n"
     ]
    }
   ],
   "source": [
    "loss = model.evaluate(X_test, y_test, verbose=0)\n",
    "\n",
    "y_pred = model.predict(X_test)\n",
    "y_pred = np.round(y_pred)  \n",
    "\n",
    "f1 = f1_score(y_test, y_pred, average='weighted')\n",
    "print(f'Test loss: {loss:.4f}, Test F1 score: {f1*100:.2f}%')"
   ]
  },
  {
   "cell_type": "code",
   "execution_count": 20,
   "metadata": {},
   "outputs": [
    {
     "name": "stdout",
     "output_type": "stream",
     "text": [
      "Accuracy: 0.89\n"
     ]
    }
   ],
   "source": [
    "accuracy = accuracy_score(y_test, y_pred)\n",
    "\n",
    "print(f\"Accuracy: {accuracy:.2f}\")"
   ]
  },
  {
   "cell_type": "markdown",
   "metadata": {},
   "source": [
    "# Visualizations "
   ]
  },
  {
   "cell_type": "code",
   "execution_count": null,
   "metadata": {},
   "outputs": [],
   "source": [
    "labels = 'Venomous snakes', 'Non-venomous snakes'\n",
    "sizes = [6, 47]  \n",
    "colors = ['red', 'skyblue']  \n",
    "explode = (0.2, 0)  \n",
    "\n",
    "\n",
    "plt.pie(sizes, explode=explode, labels=labels, colors=colors, autopct='%1.1f%%', shadow=True, startangle=140)\n",
    "plt.axis('equal')\n",
    "plt.rcParams['font.size'] = 14\n",
    "plt.rcParams['font.weight'] = 'bold'\n",
    "plt.title('Venomous vs Non-Venomous')\n",
    "plt.show()"
   ]
  },
  {
   "cell_type": "code",
   "execution_count": null,
   "metadata": {},
   "outputs": [],
   "source": [
    "venomous_snake_names = [\"Harlequin Coralsnake\", \"Dusky Pygmy Rattlesnake\", \"Eastern Diamond-backed Rattlesnake\", \"Eastern Copperhead\", \"Florida Cottonmouth\", \"Timber Rattlesnake\"]\n",
    "print(venomous_snake_names)"
   ]
  },
  {
   "cell_type": "code",
   "execution_count": null,
   "metadata": {
    "scrolled": true
   },
   "outputs": [],
   "source": [
    "labels = ['Common', 'Uncommon']\n",
    "counts = [5, 1]  \n",
    "explode = (0.2, 0)\n",
    "\n",
    "plt.pie(counts, explode=explode, labels=labels, autopct='%1.1f%%', shadow=True, startangle=140)\n",
    "plt.axis('equal') \n",
    "plt.rcParams['font.size'] = 14\n",
    "plt.rcParams['font.weight'] = 'bold'\n",
    "plt.title('Venomous Snakes')\n",
    "plt.show()"
   ]
  },
  {
   "cell_type": "code",
   "execution_count": null,
   "metadata": {},
   "outputs": [],
   "source": [
    "labels = ['Rattle', 'Colors']\n",
    "counts = [3, 2] \n",
    "colors = ['green', 'yellow']\n",
    "explode = (0.2, 0)\n",
    "\n",
    "\n",
    "plt.pie(counts, labels=labels, autopct='%1.1f%%', colors=colors, shadow=True, startangle=140)\n",
    "plt.axis('equal') \n",
    "plt.rcParams['font.size'] = 14\n",
    "plt.rcParams['font.weight'] = 'bold'\n",
    "plt.title('Threat Displays')\n",
    "plt.show()"
   ]
  },
  {
   "cell_type": "code",
   "execution_count": null,
   "metadata": {},
   "outputs": [],
   "source": []
  }
 ],
 "metadata": {
  "kernelspec": {
   "display_name": "Python (learn-env)",
   "language": "python",
   "name": "learn-env"
  },
  "language_info": {
   "codemirror_mode": {
    "name": "ipython",
    "version": 3
   },
   "file_extension": ".py",
   "mimetype": "text/x-python",
   "name": "python",
   "nbconvert_exporter": "python",
   "pygments_lexer": "ipython3",
   "version": "3.8.5"
  }
 },
 "nbformat": 4,
 "nbformat_minor": 4
}
