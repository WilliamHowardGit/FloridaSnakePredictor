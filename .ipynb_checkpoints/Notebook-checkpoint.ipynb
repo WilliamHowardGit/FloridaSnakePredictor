{
 "cells": [
  {
   "cell_type": "code",
   "execution_count": 1,
   "metadata": {},
   "outputs": [],
   "source": [
    "from PIL import Image\n",
    "import os\n",
    "import pandas as pd\n",
    "from IPython.display import Image, display"
   ]
  },
  {
   "cell_type": "code",
   "execution_count": 2,
   "metadata": {},
   "outputs": [],
   "source": [
    "# def resize_image(input_image_path, output_image_path, size):\n",
    "#     original_image = Image.open(input_image_path)\n",
    "#     width, height = original_image.size\n",
    "#     print(f\"The original image size is {width} wide x {height} tall\")\n",
    "\n",
    "#     resized_image = original_image.resize(size)\n",
    "#     width, height = resized_image.size\n",
    "#     print(f\"The resized image size is {width} wide x {height} tall\")\n",
    "#     resized_image.show()\n",
    "#     resized_image.save(output_image_path)"
   ]
  },
  {
   "cell_type": "code",
   "execution_count": 3,
   "metadata": {},
   "outputs": [],
   "source": [
    "# resize_image('C:\\\\Users\\\\howar\\\\Desktop\\\\Capstone\\\\FloridaSnakePredictor\\\\Snake Photos\\\\Eastern Coachwhip.jpg', 'C:\\\\Users\\\\howar\\\\Desktop\\\\Capstone\\\\FloridaSnakePredictor\\\\Snake Photos\\\\Eastern Coachwhip_resized.jpg', (950, 660))"
   ]
  },
  {
   "cell_type": "code",
   "execution_count": 4,
   "metadata": {},
   "outputs": [],
   "source": [
    "# resize_image('C:\\\\Users\\\\howar\\\\Desktop\\\\Capstone\\\\FloridaSnakePredictor\\\\Snake Photos\\\\Eastern Pinesnake.jpg', 'C:\\\\Users\\\\howar\\\\Desktop\\\\Capstone\\\\FloridaSnakePredictor\\\\Snake Photos\\\\Eastern Pinesnake_resized.jpg', (950, 660))"
   ]
  },
  {
   "cell_type": "code",
   "execution_count": 5,
   "metadata": {},
   "outputs": [],
   "source": [
    "# resize_image('C:\\\\Users\\\\howar\\\\Desktop\\\\Capstone\\\\FloridaSnakePredictor\\\\Snake Photos\\\\Short-tailed Kingsnake.jpg', 'C:\\\\Users\\\\howar\\\\Desktop\\\\Capstone\\\\FloridaSnakePredictor\\\\Snake Photos\\\\Short-tailed Kingsnake_resized.jpg', (950, 660))"
   ]
  },
  {
   "cell_type": "code",
   "execution_count": 6,
   "metadata": {},
   "outputs": [],
   "source": [
    "image_dir = 'C:\\\\Users\\\\howar\\\\Desktop\\\\Capstone\\\\FloridaSnakePredictor\\\\Snake Photos'\n",
    "\n",
    "# # Get list of image file names\n",
    "# image_files = [f for f in os.listdir(image_dir) if f.endswith('.jpg')]\n",
    "\n",
    "# # Create DataFrame\n",
    "# df = pd.DataFrame(image_files, columns=['Image'])\n",
    "\n",
    "# # Function to display image\n",
    "# def display_image(filename):\n",
    "#     return display(Image(filename=os.path.join(image_dir, filename)))\n",
    "\n",
    "# # Apply function to DataFrame\n",
    "# df['Image'].apply(display_image)"
   ]
  },
  {
   "cell_type": "code",
   "execution_count": 7,
   "metadata": {},
   "outputs": [],
   "source": [
    "all_images = set(f for f in os.listdir(image_dir) if f.endswith('.jpg'))"
   ]
  },
  {
   "cell_type": "code",
   "execution_count": 11,
   "metadata": {},
   "outputs": [],
   "source": [
    "venomous_snakes = [\"Florida Cottonmouth.jpg\", \"Dusky Pygmy Rattlesnake.jpg\", \"Eastern Diamond-backed Rattlesnake.jpg\", \"Harlequin Coralsnake.jpg\", \"Eastern Copperhead.jpg\", \"Timber Rattlesnake.jpg\"]\n",
    "venomous_snakes = set(venomous_snakes)\n",
    "non_venomous_snakes = all_images - venomous_snakes"
   ]
  },
  {
   "cell_type": "code",
   "execution_count": 12,
   "metadata": {},
   "outputs": [
    {
     "name": "stdout",
     "output_type": "stream",
     "text": [
      "                                  Venomous                        Non-venomous\n",
      "0   Eastern Diamond-backed Rattlesnake.jpg         Northern Mole Kingsnake.jpg\n",
      "1              Dusky Pygmy Rattlesnake.jpg            North American Racer.jpg\n",
      "2                  Florida Cottonmouth.jpg       Diamond-backed Watersnake.jpg\n",
      "3                   Timber Rattlesnake.jpg          Pine Woods Littersnake.jpg\n",
      "4                   Eastern Copperhead.jpg            Eastern Indigo Snake.jpg\n",
      "5                 Harlequin Coralsnake.jpg              Midland Watersnake.jpg\n",
      "6                                      NaN                Rough Earthsnake.jpg\n",
      "7                                      NaN              Common Gartersnake.jpg\n",
      "8                                      NaN          Rim Rock Crowned Snake.jpg\n",
      "9                                      NaN                Rough Greensnake.jpg\n",
      "10                                     NaN           Florida Crowned Snake.jpg\n",
      "11                                     NaN         Eastern Hog-nosed Snake.jpg\n",
      "12                                     NaN  Short-tailed Kingsnake_resized.jpg\n",
      "13                                     NaN                    Scarletsnake.jpg\n",
      "14                                     NaN             Eastern Ribbonsnake.jpg\n",
      "15                                     NaN                Javan File Snake.jpg\n",
      "16                                     NaN    Mississippi Green Watersnake.jpg\n",
      "17                                     NaN            Red-bellied Mudsnake.jpg\n",
      "18                                     NaN        Southern Hog-nosed Snake.jpg\n",
      "19                                     NaN               Red-bellied Snake.jpg\n",
      "20                                     NaN             Southern Watersnake.jpg\n",
      "21                                     NaN    South Florida Mole Kingsnake.jpg\n",
      "22                                     NaN               Smooth Earthsnake.jpg\n",
      "23                                     NaN       Eastern Pinesnake_resized.jpg\n",
      "24                                     NaN             African Rock Python.jpg\n",
      "25                                     NaN                Eastern Ratsnake.jpg\n",
      "26                                     NaN                   Red Cornsnake.jpg\n",
      "27                                     NaN        Florida Green Watersnake.jpg\n",
      "28                                     NaN               Ring-necked Snake.jpg\n",
      "29                                     NaN              Dekay's Brownsnake.jpg\n",
      "30                                     NaN               Florida Kingsnake.jpg\n",
      "31                                     NaN                   Gray Ratsnake.jpg\n",
      "32                                     NaN              Florida Brownsnake.jpg\n",
      "33                                     NaN        Plain-bellied Watersnake.jpg\n",
      "34                                     NaN                   Rainbow Snake.jpg\n",
      "35                                     NaN                 Saltmarsh Snake.jpg\n",
      "36                                     NaN                  Burmese Python.jpg\n",
      "37                                     NaN                 Boa Constrictor.jpg\n",
      "38                                     NaN                Black Swampsnake.jpg\n",
      "39                                     NaN             Brahminy Blindsnake.jpg\n",
      "40                                     NaN      Southeastern Crowned Snake.jpg\n",
      "41                                     NaN                Brown Watersnake.jpg\n",
      "42                                     NaN       Eastern Coachwhip_resized.jpg\n",
      "43                                     NaN               Eastern Kingsnake.jpg\n",
      "44                                     NaN               Glossy Swampsnake.jpg\n",
      "45                                     NaN              Striped Swampsnake.jpg\n",
      "46                                     NaN               Scarlet Kingsnake.jpg\n",
      "47                                     NaN                      Queensnake.jpg\n",
      "48                                     NaN          Apalachicola Kingsnake.jpg\n"
     ]
    }
   ],
   "source": [
    "venomous_snakes = list(venomous_snakes)\n",
    "non_venomous_snakes = list(non_venomous_snakes)\n",
    "\n",
    "\n",
    "\n",
    "df = pd.DataFrame({\n",
    "    'Venomous': pd.Series(venomous_snakes),\n",
    "    'Non-venomous': pd.Series(non_venomous_snakes)\n",
    "})\n",
    "\n",
    "print(df)"
   ]
  },
  {
   "cell_type": "code",
   "execution_count": null,
   "metadata": {},
   "outputs": [],
   "source": []
  }
 ],
 "metadata": {
  "kernelspec": {
   "display_name": "Python (learn-env)",
   "language": "python",
   "name": "learn-env"
  },
  "language_info": {
   "codemirror_mode": {
    "name": "ipython",
    "version": 3
   },
   "file_extension": ".py",
   "mimetype": "text/x-python",
   "name": "python",
   "nbconvert_exporter": "python",
   "pygments_lexer": "ipython3",
   "version": "3.8.5"
  }
 },
 "nbformat": 4,
 "nbformat_minor": 4
}
