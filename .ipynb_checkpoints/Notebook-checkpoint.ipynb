{
 "cells": [
  {
   "cell_type": "code",
   "execution_count": 1,
   "metadata": {},
   "outputs": [],
   "source": [
    "from PIL import Image as PilImage\n",
    "import os\n",
    "import numpy as np\n",
    "import pandas as pd\n",
    "from sklearn.metrics import f1_score\n",
    "from IPython.display import Image, display\n",
    "from keras.models import Sequential\n",
    "from keras.layers import Conv2D, MaxPooling2D, Dropout, Flatten, Dense\n",
    "from sklearn.model_selection import train_test_split\n",
    "from tensorflow.keras import metrics\n",
    "from sklearn.metrics import precision_score\n",
    "from keras.preprocessing.image import ImageDataGenerator\n",
    "from keras.callbacks import EarlyStopping\n",
    "from sklearn.utils import class_weight\n",
    "import matplotlib.pyplot as plt\n",
    "from imblearn.under_sampling import RandomUnderSampler"
   ]
  },
  {
   "cell_type": "code",
   "execution_count": 2,
   "metadata": {},
   "outputs": [],
   "source": [
    "# def resize_image(input_image_path, output_image_path, size):\n",
    "#     original_image = Image.open(input_image_path)\n",
    "#     width, height = original_image.size\n",
    "#     print(f\"The original image size is {width} wide x {height} tall\")\n",
    "\n",
    "#     resized_image = original_image.resize(size)\n",
    "#     width, height = resized_image.size\n",
    "#     print(f\"The resized image size is {width} wide x {height} tall\")\n",
    "#     resized_image.show()\n",
    "#     resized_image.save(output_image_path)"
   ]
  },
  {
   "cell_type": "code",
   "execution_count": 3,
   "metadata": {},
   "outputs": [],
   "source": [
    "# resize_image('C:\\\\Users\\\\howar\\\\Desktop\\\\Capstone\\\\FloridaSnakePredictor\\\\Snake Photos\\\\Eastern Coachwhip.jpg', 'C:\\\\Users\\\\howar\\\\Desktop\\\\Capstone\\\\FloridaSnakePredictor\\\\Snake Photos\\\\Eastern Coachwhip_resized.jpg', (950, 660))"
   ]
  },
  {
   "cell_type": "code",
   "execution_count": 4,
   "metadata": {},
   "outputs": [],
   "source": [
    "# resize_image('C:\\\\Users\\\\howar\\\\Desktop\\\\Capstone\\\\FloridaSnakePredictor\\\\Snake Photos\\\\Eastern Pinesnake.jpg', 'C:\\\\Users\\\\howar\\\\Desktop\\\\Capstone\\\\FloridaSnakePredictor\\\\Snake Photos\\\\Eastern Pinesnake_resized.jpg', (950, 660))"
   ]
  },
  {
   "cell_type": "code",
   "execution_count": 5,
   "metadata": {},
   "outputs": [],
   "source": [
    "# resize_image('C:\\\\Users\\\\howar\\\\Desktop\\\\Capstone\\\\FloridaSnakePredictor\\\\Snake Photos\\\\Short-tailed Kingsnake.jpg', 'C:\\\\Users\\\\howar\\\\Desktop\\\\Capstone\\\\FloridaSnakePredictor\\\\Snake Photos\\\\Short-tailed Kingsnake_resized.jpg', (950, 660))"
   ]
  },
  {
   "cell_type": "code",
   "execution_count": 6,
   "metadata": {},
   "outputs": [],
   "source": [
    "image_dir = 'C:\\\\Users\\\\howar\\\\Desktop\\\\Capstone\\\\FloridaSnakePredictor\\\\Snake Photos'\n",
    "\n",
    "# # Get list of image file names\n",
    "# image_files = [f for f in os.listdir(image_dir) if f.endswith('.jpg')]\n",
    "\n",
    "# # Create DataFrame\n",
    "# df = pd.DataFrame(image_files, columns=['Image'])\n",
    "\n",
    "# # Function to display image\n",
    "# def display_image(filename):\n",
    "#     return display(Image(filename=os.path.join(image_dir, filename)))\n",
    "\n",
    "# # Apply function to DataFrame\n",
    "# df['Image'].apply(display_image)"
   ]
  },
  {
   "cell_type": "code",
   "execution_count": 7,
   "metadata": {},
   "outputs": [],
   "source": [
    "all_images = set(f for f in os.listdir(image_dir) if f.endswith('.jpg'))"
   ]
  },
  {
   "cell_type": "code",
   "execution_count": 8,
   "metadata": {},
   "outputs": [],
   "source": [
    "venomous_snakes = [\"Florida Cottonmouth.jpg\", \"Florida Cottonmouth 1.jpg\", \"Dusky Pygmy Rattlesnake.jpg\", \"Dusky Pygmy Rattlesnake 1.jpg\", \"Eastern Diamond-backed Rattlesnake.jpg\", \"Eastern Diamond-backed Rattlesnake 1.jpg\",  \"Harlequin Coralsnake.jpg\", \"Harlequin Coralsnake 1.jpg\", \"Eastern Copperhead.jpg\", \"Eastern Copperhead 1.jpg\", \"Timber Rattlesnake.jpg\", \"Timber Rattlesnake 1.jpg\"]\n",
    "venomous_snakes = set(venomous_snakes)\n",
    "non_venomous_snakes = all_images - venomous_snakes"
   ]
  },
  {
   "cell_type": "code",
   "execution_count": 9,
   "metadata": {},
   "outputs": [
    {
     "name": "stdout",
     "output_type": "stream",
     "text": [
      "                                    Venomous                    Non-venomous\n",
      "0                 Harlequin Coralsnake 1.jpg            Brown Watersnake.jpg\n",
      "1              Dusky Pygmy Rattlesnake 1.jpg           Eastern Kingsnake.jpg\n",
      "2   Eastern Diamond-backed Rattlesnake 1.jpg     Eastern Hog-nosed Snake.jpg\n",
      "3                   Harlequin Coralsnake.jpg              Burmese Python.jpg\n",
      "4                     Eastern Copperhead.jpg               Rainbow Snake.jpg\n",
      "..                                       ...                             ...\n",
      "91                                       NaN     Florida Crowned Snake 1.jpg\n",
      "92                                       NaN      Rim Rock Crowned Snake.jpg\n",
      "93                                       NaN  Southeastern Crowned Snake.jpg\n",
      "94                                       NaN        Striped Swampsnake 1.jpg\n",
      "95                                       NaN             Red Cornsnake 1.jpg\n",
      "\n",
      "[96 rows x 2 columns]\n"
     ]
    }
   ],
   "source": [
    "venomous_snakes = list(venomous_snakes)\n",
    "non_venomous_snakes = list(non_venomous_snakes)\n",
    "\n",
    "\n",
    "\n",
    "df = pd.DataFrame({\n",
    "    'Venomous': pd.Series(venomous_snakes),\n",
    "    'Non-venomous': pd.Series(non_venomous_snakes)\n",
    "})\n",
    "\n",
    "print(df)"
   ]
  },
  {
   "cell_type": "code",
   "execution_count": 10,
   "metadata": {},
   "outputs": [
    {
     "data": {
      "text/plain": [
       "['Harlequin Coralsnake 1.jpg',\n",
       " 'Dusky Pygmy Rattlesnake 1.jpg',\n",
       " 'Eastern Diamond-backed Rattlesnake 1.jpg',\n",
       " 'Harlequin Coralsnake.jpg',\n",
       " 'Eastern Copperhead.jpg',\n",
       " 'Dusky Pygmy Rattlesnake.jpg',\n",
       " 'Florida Cottonmouth.jpg',\n",
       " 'Timber Rattlesnake.jpg',\n",
       " 'Timber Rattlesnake 1.jpg',\n",
       " 'Eastern Diamond-backed Rattlesnake.jpg',\n",
       " 'Eastern Copperhead 1.jpg',\n",
       " 'Florida Cottonmouth 1.jpg']"
      ]
     },
     "execution_count": 10,
     "metadata": {},
     "output_type": "execute_result"
    }
   ],
   "source": [
    "venomous_snakes"
   ]
  },
  {
   "cell_type": "code",
   "execution_count": 11,
   "metadata": {},
   "outputs": [
    {
     "data": {
      "text/html": [
       "<div>\n",
       "<style scoped>\n",
       "    .dataframe tbody tr th:only-of-type {\n",
       "        vertical-align: middle;\n",
       "    }\n",
       "\n",
       "    .dataframe tbody tr th {\n",
       "        vertical-align: top;\n",
       "    }\n",
       "\n",
       "    .dataframe thead th {\n",
       "        text-align: right;\n",
       "    }\n",
       "</style>\n",
       "<table border=\"1\" class=\"dataframe\">\n",
       "  <thead>\n",
       "    <tr style=\"text-align: right;\">\n",
       "      <th></th>\n",
       "      <th>Venomous</th>\n",
       "      <th>Non-venomous</th>\n",
       "    </tr>\n",
       "  </thead>\n",
       "  <tbody>\n",
       "    <tr>\n",
       "      <th>0</th>\n",
       "      <td>Harlequin Coralsnake 1.jpg</td>\n",
       "      <td>Brown Watersnake.jpg</td>\n",
       "    </tr>\n",
       "    <tr>\n",
       "      <th>1</th>\n",
       "      <td>Dusky Pygmy Rattlesnake 1.jpg</td>\n",
       "      <td>Eastern Kingsnake.jpg</td>\n",
       "    </tr>\n",
       "    <tr>\n",
       "      <th>2</th>\n",
       "      <td>Eastern Diamond-backed Rattlesnake 1.jpg</td>\n",
       "      <td>Eastern Hog-nosed Snake.jpg</td>\n",
       "    </tr>\n",
       "    <tr>\n",
       "      <th>3</th>\n",
       "      <td>Harlequin Coralsnake.jpg</td>\n",
       "      <td>Burmese Python.jpg</td>\n",
       "    </tr>\n",
       "    <tr>\n",
       "      <th>4</th>\n",
       "      <td>Eastern Copperhead.jpg</td>\n",
       "      <td>Rainbow Snake.jpg</td>\n",
       "    </tr>\n",
       "    <tr>\n",
       "      <th>...</th>\n",
       "      <td>...</td>\n",
       "      <td>...</td>\n",
       "    </tr>\n",
       "    <tr>\n",
       "      <th>91</th>\n",
       "      <td>NaN</td>\n",
       "      <td>Florida Crowned Snake 1.jpg</td>\n",
       "    </tr>\n",
       "    <tr>\n",
       "      <th>92</th>\n",
       "      <td>NaN</td>\n",
       "      <td>Rim Rock Crowned Snake.jpg</td>\n",
       "    </tr>\n",
       "    <tr>\n",
       "      <th>93</th>\n",
       "      <td>NaN</td>\n",
       "      <td>Southeastern Crowned Snake.jpg</td>\n",
       "    </tr>\n",
       "    <tr>\n",
       "      <th>94</th>\n",
       "      <td>NaN</td>\n",
       "      <td>Striped Swampsnake 1.jpg</td>\n",
       "    </tr>\n",
       "    <tr>\n",
       "      <th>95</th>\n",
       "      <td>NaN</td>\n",
       "      <td>Red Cornsnake 1.jpg</td>\n",
       "    </tr>\n",
       "  </tbody>\n",
       "</table>\n",
       "<p>96 rows × 2 columns</p>\n",
       "</div>"
      ],
      "text/plain": [
       "                                    Venomous                    Non-venomous\n",
       "0                 Harlequin Coralsnake 1.jpg            Brown Watersnake.jpg\n",
       "1              Dusky Pygmy Rattlesnake 1.jpg           Eastern Kingsnake.jpg\n",
       "2   Eastern Diamond-backed Rattlesnake 1.jpg     Eastern Hog-nosed Snake.jpg\n",
       "3                   Harlequin Coralsnake.jpg              Burmese Python.jpg\n",
       "4                     Eastern Copperhead.jpg               Rainbow Snake.jpg\n",
       "..                                       ...                             ...\n",
       "91                                       NaN     Florida Crowned Snake 1.jpg\n",
       "92                                       NaN      Rim Rock Crowned Snake.jpg\n",
       "93                                       NaN  Southeastern Crowned Snake.jpg\n",
       "94                                       NaN        Striped Swampsnake 1.jpg\n",
       "95                                       NaN             Red Cornsnake 1.jpg\n",
       "\n",
       "[96 rows x 2 columns]"
      ]
     },
     "execution_count": 11,
     "metadata": {},
     "output_type": "execute_result"
    }
   ],
   "source": [
    "df"
   ]
  },
  {
   "cell_type": "code",
   "execution_count": 12,
   "metadata": {},
   "outputs": [],
   "source": [
    "# Get a list of all files in that directory\n",
    "all_files = os.listdir(image_dir)\n",
    "\n",
    "# Filter the list for files ending in '.jpg'\n",
    "image_paths = [os.path.join(image_dir, file) for file in all_files if file.endswith('.jpg')]"
   ]
  },
  {
   "cell_type": "code",
   "execution_count": 13,
   "metadata": {},
   "outputs": [
    {
     "name": "stdout",
     "output_type": "stream",
     "text": [
      "(108, 600, 900, 3)\n"
     ]
    }
   ],
   "source": [
    "# Initialize an empty list to store the numpy arrays\n",
    "images = []\n",
    "\n",
    "for path in image_paths:\n",
    "    # Open the image file\n",
    "    with PilImage.open(path) as img:\n",
    "        # Convert the image data to a numpy array\n",
    "        img_array = np.array(img)\n",
    "        \n",
    "        # Append the image array to the list\n",
    "        images.append(img_array)\n",
    "\n",
    "# Convert the list of image arrays into a single numpy array\n",
    "images = np.array(images)\n",
    "\n",
    "print(images.shape)\n",
    "# Images, Height, Width, Color Channels"
   ]
  },
  {
   "cell_type": "code",
   "execution_count": 14,
   "metadata": {},
   "outputs": [
    {
     "data": {
      "text/plain": [
       "array([0, 0, 0, 0, 0, 0, 0, 0, 0, 0, 0, 0, 0, 0, 0, 0, 0, 0, 0, 0, 1, 1,\n",
       "       0, 0, 1, 1, 1, 1, 0, 0, 0, 0, 0, 0, 0, 0, 0, 0, 0, 0, 0, 0, 1, 1,\n",
       "       0, 0, 0, 0, 0, 0, 0, 0, 0, 0, 1, 1, 0, 0, 0, 0, 0, 0, 0, 0, 0, 0,\n",
       "       0, 0, 0, 0, 0, 0, 0, 0, 0, 0, 0, 0, 0, 0, 0, 0, 0, 0, 0, 0, 0, 0,\n",
       "       0, 0, 0, 0, 0, 0, 0, 0, 0, 0, 0, 0, 0, 0, 0, 0, 0, 0, 1, 1])"
      ]
     },
     "execution_count": 14,
     "metadata": {},
     "output_type": "execute_result"
    }
   ],
   "source": [
    "labels = []\n",
    "\n",
    "for path in image_paths:\n",
    "    # Get the name of the snake from the path\n",
    "    snake_name = os.path.basename(path)  # this gets the filename with the extension\n",
    "    \n",
    "    # Check if the snake is venomous\n",
    "    if snake_name in venomous_snakes:\n",
    "        # If it is, append 1 to the labels list\n",
    "        labels.append(1)\n",
    "    else:\n",
    "        # If it's not, append 0 to the labels list\n",
    "        labels.append(0)\n",
    "\n",
    "# Convert the list of labels into a numpy array\n",
    "labels = np.array(labels)\n",
    "labels"
   ]
  },
  {
   "cell_type": "code",
   "execution_count": 15,
   "metadata": {},
   "outputs": [],
   "source": [
    "\n",
    "\n",
    "# X_train, X_test, y_train, y_test = train_test_split(images, labels, test_size=0.2, random_state=42)\n"
   ]
  },
  {
   "cell_type": "code",
   "execution_count": 16,
   "metadata": {},
   "outputs": [],
   "source": [
    "\n",
    "\n",
    "# # Create the model\n",
    "# model = Sequential()\n",
    "# model.add(Conv2D(32, (3, 3), activation='relu', input_shape=(660, 950, 3)))  # change input shape to match your images\n",
    "# model.add(MaxPooling2D((2, 2)))\n",
    "# model.add(Dropout(0.25))\n",
    "\n",
    "# model.add(Conv2D(64, (3, 3), activation='relu'))\n",
    "# model.add(MaxPooling2D((2, 2)))\n",
    "# model.add(Dropout(0.25))\n",
    "\n",
    "# model.add(Flatten())\n",
    "# model.add(Dense(128, activation='relu'))\n",
    "# model.add(Dropout(0.5))\n",
    "# model.add(Dense(1, activation='sigmoid'))  # 1 because we have 2 classes\n"
   ]
  },
  {
   "cell_type": "code",
   "execution_count": 17,
   "metadata": {},
   "outputs": [],
   "source": [
    "# # Compile the model\n",
    "# model.compile(optimizer='adam',\n",
    "#               loss='binary_crossentropy',\n",
    "#               metrics=[metrics.Precision()])"
   ]
  },
  {
   "cell_type": "code",
   "execution_count": 18,
   "metadata": {
    "scrolled": false
   },
   "outputs": [],
   "source": [
    "# # Data augmentation\n",
    "# datagen = ImageDataGenerator(\n",
    "#     rotation_range=20,\n",
    "#     width_shift_range=0.2,\n",
    "#     height_shift_range=0.2,\n",
    "#     horizontal_flip=True)\n",
    "\n",
    "# # Early stopping\n",
    "# early_stopping = EarlyStopping(monitor='val_loss', patience=3)\n",
    "\n",
    "# # Calculate class weights\n",
    "# class_weights = class_weight.compute_class_weight('balanced', np.unique(y_train), y_train)\n",
    "\n",
    "# # Convert class weights to a dictionary to pass it to the fit function\n",
    "# class_weight_dict = dict(enumerate(class_weights))\n",
    "\n",
    "# # Define the undersampling method\n",
    "# undersample = RandomUnderSampler(sampling_strategy='majority')\n",
    "\n",
    "# # Flatten the image data\n",
    "# X_train_flat = X_train.reshape(X_train.shape[0], -1)\n",
    "\n",
    "# # Apply the undersampling method\n",
    "# X_under_flat, y_under = undersample.fit_resample(X_train_flat, y_train)\n",
    "\n",
    "# # Reshape the undersampled data back to its original shape\n",
    "# X_under = X_under_flat.reshape(-1, 660, 950, 3)\n",
    "\n",
    "# # Fit the model using the undersampled data\n",
    "# model.fit(datagen.flow(X_under, y_under, batch_size=16),\n",
    "#           epochs=20,\n",
    "#           validation_data=(X_test, y_test),\n",
    "#           callbacks=[early_stopping],\n",
    "#           class_weight=class_weight_dict)\n"
   ]
  },
  {
   "cell_type": "code",
   "execution_count": 21,
   "metadata": {
    "scrolled": false
   },
   "outputs": [
    {
     "name": "stdout",
     "output_type": "stream",
     "text": [
      "Epoch 1/20\n",
      "2/2 [==============================] - 3s 1s/step - loss: 1607.8937 - val_loss: 2063.4902\n",
      "Epoch 2/20\n",
      "2/2 [==============================] - 3s 1s/step - loss: 5627.0693 - val_loss: 684.3905\n",
      "Epoch 3/20\n",
      "2/2 [==============================] - 3s 1s/step - loss: 3770.8481 - val_loss: 99.6855\n",
      "Epoch 4/20\n",
      "2/2 [==============================] - 3s 1s/step - loss: 2507.7490 - val_loss: 143.9402\n",
      "Epoch 5/20\n",
      "2/2 [==============================] - 3s 1s/step - loss: 516.1849 - val_loss: 53.0130\n",
      "Epoch 6/20\n",
      "2/2 [==============================] - 3s 1s/step - loss: 332.3927 - val_loss: 3.7340\n",
      "Epoch 7/20\n",
      "2/2 [==============================] - 3s 1s/step - loss: 71.8119 - val_loss: 0.3065\n",
      "Epoch 8/20\n",
      "2/2 [==============================] - 3s 1s/step - loss: 9.0214 - val_loss: 0.5782\n",
      "Epoch 9/20\n",
      "2/2 [==============================] - 3s 1s/step - loss: 3.2444 - val_loss: 1.2479\n",
      "Epoch 10/20\n",
      "2/2 [==============================] - 3s 1s/step - loss: 3.8611 - val_loss: 0.6821\n"
     ]
    },
    {
     "data": {
      "text/plain": [
       "<tensorflow.python.keras.callbacks.History at 0x16fd76136a0>"
      ]
     },
     "execution_count": 21,
     "metadata": {},
     "output_type": "execute_result"
    }
   ],
   "source": [
    "X_train, X_test, y_train, y_test = train_test_split(images, labels, test_size=0.2, random_state=42)\n",
    "\n",
    "weights = class_weight.compute_class_weight('balanced', np.unique(y_train), y_train)\n",
    "class_weights = dict(enumerate(weights))\n",
    "\n",
    "model = Sequential()\n",
    "model.add(Conv2D(32, (3, 3), activation='relu', input_shape=(600, 900, 3)))  # change input shape to match your images\n",
    "model.add(MaxPooling2D((2, 2)))\n",
    "model.add(Dropout(0.25))\n",
    "\n",
    "model.add(Conv2D(64, (3, 3), activation='relu'))\n",
    "model.add(MaxPooling2D((2, 2)))\n",
    "model.add(Dropout(0.25))\n",
    "\n",
    "model.add(Flatten())\n",
    "model.add(Dense(128, activation='relu'))\n",
    "model.add(Dropout(0.5))\n",
    "model.add(Dense(1, activation='sigmoid')) \n",
    "\n",
    "model.compile(optimizer='adam', loss='binary_crossentropy')\n",
    "\n",
    "early_stopping = EarlyStopping(monitor='val_loss', patience=3)\n",
    "\n",
    "model.fit(X_train, y_train, epochs=20, validation_data=(X_test, y_test), batch_size=64, callbacks=[early_stopping])\n"
   ]
  },
  {
   "cell_type": "code",
   "execution_count": 22,
   "metadata": {},
   "outputs": [
    {
     "name": "stdout",
     "output_type": "stream",
     "text": [
      "Test loss: 0.6821, Test F1 score: 86.58%\n"
     ]
    }
   ],
   "source": [
    "loss = model.evaluate(X_test, y_test, verbose=0)\n",
    "\n",
    "y_pred = model.predict(X_test)\n",
    "y_pred = np.round(y_pred)  \n",
    "\n",
    "f1 = f1_score(y_test, y_pred, average='weighted')\n",
    "print(f'Test loss: {loss:.4f}, Test F1 score: {f1*100:.2f}%')\n"
   ]
  },
  {
   "cell_type": "code",
   "execution_count": 27,
   "metadata": {},
   "outputs": [
    {
     "data": {
      "image/png": "[encoded data removed]",
      "text/plain": [
       "<Figure size 432x288 with 1 Axes>"
      ]
     },
     "metadata": {},
     "output_type": "display_data"
    }
   ],
   "source": [
    "labels = 'Venomous snakes', 'Non-venomous snakes'\n",
    "sizes = [6, 47]  \n",
    "colors = ['red', 'green']  \n",
    "explode = (0.2, 0)  \n",
    "\n",
    "\n",
    "plt.pie(sizes, explode=explode, labels=labels, colors=colors, autopct='%1.1f%%', shadow=True, startangle=140)\n",
    "plt.axis('equal')\n",
    "plt.rcParams['font.size'] = 14\n",
    "plt.rcParams['font.weight'] = 'bold'\n",
    "plt.title('Venomous vs Non-Venomous')\n",
    "plt.show()"
   ]
  },
  {
   "cell_type": "code",
   "execution_count": 20,
   "metadata": {},
   "outputs": [
    {
     "name": "stdout",
     "output_type": "stream",
     "text": [
      "['Harlequin Coralsnake', 'Dusky Pygmy Rattlesnake', 'Eastern Diamond-backed Rattlesnake', 'Eastern Copperhead', 'Florida Cottonmouth', 'Timber Rattlesnake']\n"
     ]
    }
   ],
   "source": [
    "venomous_snake_names = [\"Harlequin Coralsnake\", \"Dusky Pygmy Rattlesnake\", \"Eastern Diamond-backed Rattlesnake\", \"Eastern Copperhead\", \"Florida Cottonmouth\", \"Timber Rattlesnake\"]\n",
    "print(venomous_snake_names)"
   ]
  },
  {
   "cell_type": "code",
   "execution_count": 25,
   "metadata": {},
   "outputs": [
    {
     "data": {
      "image/png": "[encoded data removed]",
      "text/plain": [
       "<Figure size 432x288 with 1 Axes>"
      ]
     },
     "metadata": {},
     "output_type": "display_data"
    }
   ],
   "source": [
    "labels = ['Rattle', 'Color Threat Display', 'Rare']\n",
    "counts = [3, 2, 1]  \n",
    "plt.pie(counts, labels=labels, autopct='%1.1f%%', startangle=140)\n",
    "plt.axis('equal') \n",
    "plt.rcParams['font.size'] = 14\n",
    "plt.rcParams['font.weight'] = 'bold'\n",
    "plt.title('Number of Snakes by Label')\n",
    "plt.show()"
   ]
  },
  {
   "cell_type": "code",
   "execution_count": null,
   "metadata": {},
   "outputs": [],
   "source": []
  }
 ],
 "metadata": {
  "kernelspec": {
   "display_name": "Python (learn-env)",
   "language": "python",
   "name": "learn-env"
  },
  "language_info": {
   "codemirror_mode": {
    "name": "ipython",
    "version": 3
   },
   "file_extension": ".py",
   "mimetype": "text/x-python",
   "name": "python",
   "nbconvert_exporter": "python",
   "pygments_lexer": "ipython3",
   "version": "3.8.5"
  }
 },
 "nbformat": 4,
 "nbformat_minor": 4
}
